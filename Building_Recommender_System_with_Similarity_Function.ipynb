{
  "nbformat": 4,
  "nbformat_minor": 0,
  "metadata": {
    "colab": {
      "name": "Building Recommender System with Similarity Function.ipynb",
      "provenance": [],
      "collapsed_sections": [],
      "toc_visible": true,
      "authorship_tag": "ABX9TyMc+mGf6uWW9kceQuOM/sO+",
      "include_colab_link": true
    },
    "kernelspec": {
      "name": "python3",
      "display_name": "Python 3"
    },
    "language_info": {
      "name": "python"
    }
  },
  "cells": [
    {
      "cell_type": "markdown",
      "metadata": {
        "id": "view-in-github",
        "colab_type": "text"
      },
      "source": [
        "<a href=\"https://colab.research.google.com/github/KukuhSetyoB/Data-Analyst-Project-Business-Decision-Research/blob/main/Building_Recommender_System_with_Similarity_Function.ipynb\" target=\"_parent\"><img src=\"https://colab.research.google.com/assets/colab-badge.svg\" alt=\"Open In Colab\"/></a>"
      ]
    },
    {
      "cell_type": "code",
      "execution_count": null,
      "metadata": {
        "colab": {
          "base_uri": "https://localhost:8080/"
        },
        "id": "B22eVNzuxZDV",
        "outputId": "04a3aa81-4459-4210-edd5-0263472d8982"
      },
      "outputs": [
        {
          "output_type": "stream",
          "name": "stdout",
          "text": [
            "      tconst titleType            primaryTitle           originalTitle  \\\n",
            "0  tt0000001     short              Carmencita              Carmencita   \n",
            "1  tt0000002     short  Le clown et ses chiens  Le clown et ses chiens   \n",
            "2  tt0000003     short          Pauvre Pierrot          Pauvre Pierrot   \n",
            "3  tt0000004     short             Un bon bock             Un bon bock   \n",
            "4  tt0000005     short        Blacksmith Scene        Blacksmith Scene   \n",
            "\n",
            "   isAdult  startYear  endYear  runtimeMinutes                    genres  \\\n",
            "0        0     1894.0      NaN             1.0         Documentary,Short   \n",
            "1        0     1892.0      NaN             5.0           Animation,Short   \n",
            "2        0     1892.0      NaN             4.0  Animation,Comedy,Romance   \n",
            "3        0     1892.0      NaN            12.0           Animation,Short   \n",
            "4        0     1893.0      NaN             1.0              Comedy,Short   \n",
            "\n",
            "   averageRating  numVotes  \n",
            "0            5.6      1608  \n",
            "1            6.0       197  \n",
            "2            6.5      1285  \n",
            "3            6.1       121  \n",
            "4            6.1      2050  \n",
            "<class 'pandas.core.frame.DataFrame'>\n",
            "RangeIndex: 751614 entries, 0 to 751613\n",
            "Data columns (total 11 columns):\n",
            " #   Column          Non-Null Count   Dtype  \n",
            "---  ------          --------------   -----  \n",
            " 0   tconst          751614 non-null  object \n",
            " 1   titleType       751614 non-null  object \n",
            " 2   primaryTitle    751614 non-null  object \n",
            " 3   originalTitle   751614 non-null  object \n",
            " 4   isAdult         751614 non-null  int64  \n",
            " 5   startYear       751614 non-null  float64\n",
            " 6   endYear         16072 non-null   float64\n",
            " 7   runtimeMinutes  751614 non-null  float64\n",
            " 8   genres          486766 non-null  object \n",
            " 9   averageRating   751614 non-null  float64\n",
            " 10  numVotes        751614 non-null  int64  \n",
            "dtypes: float64(4), int64(2), object(5)\n",
            "memory usage: 63.1+ MB\n",
            "None\n"
          ]
        }
      ],
      "source": [
        "#import library yang dibutuhkan\n",
        "import pandas as pd\n",
        "import numpy as np\n",
        "pd.set_option('display.max_columns', None)\n",
        "\n",
        "#lakukan pembacaan dataset\n",
        "movie_rating_df = pd.read_csv('https://storage.googleapis.com/dqlab-dataset/movie_rating_df.csv') #untuk menyimpan movie_rating_df.csv\n",
        "\n",
        "#tampilkan 5 baris teratas dari movive_rating_df\n",
        "print(movie_rating_df.head())\n",
        "\n",
        "#tampilkan info mengenai tipe data dari tiap kolom\n",
        "print(movie_rating_df.info())"
      ]
    },
    {
      "cell_type": "code",
      "source": [
        "director_writers = pd.read_csv('https://storage.googleapis.com/dqlab-dataset/directors_writers.csv')\n",
        "\n",
        "#Mengubah director_name menjadi list\n",
        "director_writers['director_name'] = director_writers['director_name'].apply(lambda row: row.split(','))\n",
        "director_writers['writer_name'] = director_writers['writer_name'].apply(lambda row: row.split(','))\n",
        "\n",
        "#Tampilkan 5 data teratas\n",
        "print(director_writers.head())"
      ],
      "metadata": {
        "colab": {
          "base_uri": "https://localhost:8080/"
        },
        "id": "10ELAZD1yeek",
        "outputId": "37f8a4da-9369-441d-b33d-588a2bac936d"
      },
      "execution_count": null,
      "outputs": [
        {
          "output_type": "stream",
          "name": "stdout",
          "text": [
            "      tconst                      director_name  \\\n",
            "0  tt0011414                   [David Kirkland]   \n",
            "1  tt0011890                [Roy William Neill]   \n",
            "2  tt0014341  [Buster Keaton, John G. Blystone]   \n",
            "3  tt0018054                 [Cecil B. DeMille]   \n",
            "4  tt0024151                      [James Cruze]   \n",
            "\n",
            "                                         writer_name  \n",
            "0                         [John Emerson, Anita Loos]  \n",
            "1   [Arthur F. Goodrich, Burns Mantle, Mary Murillo]  \n",
            "2  [Jean C. Havez, Clyde Bruckman, Joseph A. Mitc...  \n",
            "3                                [Jeanie Macpherson]  \n",
            "4               [Max Miller, Wells Root, Jack Jevne]  \n"
          ]
        }
      ]
    },
    {
      "cell_type": "code",
      "source": [
        "name_df = pd.read_csv('https://storage.googleapis.com/dqlab-dataset/actor_name.csv')\n",
        "#Kita hanya akan membutuhkan kolom nconst, primaryName, dan knownForTitles\n",
        "name_df = name_df[['nconst','primaryName','knownForTitles']]\n",
        "\n",
        "#Tampilkan 5 baris teratas dari name_df\n",
        "print(name_df.head())"
      ],
      "metadata": {
        "colab": {
          "base_uri": "https://localhost:8080/"
        },
        "id": "1yNdGpIPzYF5",
        "outputId": "e2e8983a-36f9-481c-c470-13e7d685df1b"
      },
      "execution_count": null,
      "outputs": [
        {
          "output_type": "stream",
          "name": "stdout",
          "text": [
            "       nconst          primaryName                           knownForTitles\n",
            "0   nm1774132    Nathan McLaughlin  tt0417686,tt1713976,tt1891860,tt0454839\n",
            "1  nm10683464        Bridge Andrew                                tt7718088\n",
            "2   nm1021485    Brandon Fransvaag                                tt0168790\n",
            "3   nm6940929   Erwin van der Lely                                tt4232168\n",
            "4   nm5764974  Svetlana Shypitsyna                                tt3014168\n"
          ]
        }
      ]
    },
    {
      "cell_type": "code",
      "source": [
        "#Melakukan pengecekan variasi\n",
        "print(name_df['knownForTitles'].apply(lambda x: len(x.split(','))).unique())\n",
        "\n",
        "#Mengubah knownForTitles menjadi list of list\n",
        "name_df['knownForTitles'] = name_df['knownForTitles'].apply(lambda x: x.split(','))\n",
        "\n",
        "#Mencetak 5 baris teratas\n",
        "print(name_df.head())"
      ],
      "metadata": {
        "colab": {
          "base_uri": "https://localhost:8080/"
        },
        "id": "sUkS6KBEzpmA",
        "outputId": "a3f04052-6771-4b7f-9907-899066645914"
      },
      "execution_count": null,
      "outputs": [
        {
          "output_type": "stream",
          "name": "stdout",
          "text": [
            "[4 1 2 3]\n",
            "       nconst          primaryName  \\\n",
            "0   nm1774132    Nathan McLaughlin   \n",
            "1  nm10683464        Bridge Andrew   \n",
            "2   nm1021485    Brandon Fransvaag   \n",
            "3   nm6940929   Erwin van der Lely   \n",
            "4   nm5764974  Svetlana Shypitsyna   \n",
            "\n",
            "                                 knownForTitles  \n",
            "0  [tt0417686, tt1713976, tt1891860, tt0454839]  \n",
            "1                                   [tt7718088]  \n",
            "2                                   [tt0168790]  \n",
            "3                                   [tt4232168]  \n",
            "4                                   [tt3014168]  \n"
          ]
        }
      ]
    },
    {
      "cell_type": "code",
      "source": [
        "#menyiapkan bucket untuk dataframe\n",
        "df_uni = []\n",
        "\n",
        "for x in ['knownForTitles']:\n",
        "\t#mengulang index dari tiap baris sampai tiap elemen dari knownForTitles\n",
        "\tidx = name_df.index.repeat(name_df['knownForTitles'].str.len())\n",
        "\n",
        "\t#memecah values dari list di setiap baris dan menggabungkan nya dengan rows lain menjadi dataframe\n",
        "\tdf1 = pd.DataFrame({\n",
        "\t\tx: np.concatenate(name_df[x].values)\n",
        "\t})\n",
        "\n",
        "\t#mengganti index dataframe tersebut dengan idx yang sudah kita define di awal\n",
        "\tdf1.index = idx\n",
        "\n",
        "\t#untuk setiap dataframe yang terbentuk, kita menambahkan ke dataframe bucket\n",
        "\tdf_uni.append(df1)\n",
        "\n",
        "#menggabungkan semua dataframe menjadi satu\n",
        "df_concat = pd.concat(df_uni, axis=1)\n",
        "\n",
        "#join dengan value dari dataframe yang awal\n",
        "unnested_df = df_concat.join(name_df.drop(['knownForTitles'], 1), how='left')\n",
        "\n",
        "#select kolom sesuai dengan dataframe awal\n",
        "unnested_df = unnested_df[name_df.columns.tolist()]\n",
        "print(unnested_df)"
      ],
      "metadata": {
        "colab": {
          "base_uri": "https://localhost:8080/"
        },
        "id": "uJVv2iic0m_V",
        "outputId": "549a30b8-04ee-4f06-e0ad-9d57de12b955"
      },
      "execution_count": null,
      "outputs": [
        {
          "output_type": "stream",
          "name": "stdout",
          "text": [
            "         nconst        primaryName knownForTitles\n",
            "0     nm1774132  Nathan McLaughlin      tt0417686\n",
            "0     nm1774132  Nathan McLaughlin      tt1713976\n",
            "0     nm1774132  Nathan McLaughlin      tt1891860\n",
            "0     nm1774132  Nathan McLaughlin      tt0454839\n",
            "1    nm10683464      Bridge Andrew      tt7718088\n",
            "..          ...                ...            ...\n",
            "998   nm5245804      Eliza Jenkins      tt1464058\n",
            "999   nm0948460         Greg Yolen      tt0436869\n",
            "999   nm0948460         Greg Yolen      tt0476663\n",
            "999   nm0948460         Greg Yolen      tt0109723\n",
            "999   nm0948460         Greg Yolen      tt0364484\n",
            "\n",
            "[1918 rows x 3 columns]\n"
          ]
        },
        {
          "output_type": "stream",
          "name": "stderr",
          "text": [
            "/usr/local/lib/python3.7/dist-packages/ipykernel_launcher.py:23: FutureWarning: In a future version of pandas all arguments of DataFrame.drop except for the argument 'labels' will be keyword-only\n"
          ]
        }
      ]
    },
    {
      "cell_type": "code",
      "source": [
        "#Menghilangkan tabel 'nconst' yang ada pada unnested_df\n",
        "unnested_drop = unnested_df.drop(['nconst'], axis=1)\n",
        "\n",
        "#menyiapkan bucket untuk dataframe\n",
        "df_uni = []\n",
        "\n",
        "for col in ['primaryName']:\n",
        "    #agregasi kolom PrimaryName sesuai group_col yang sudah di define di atas\n",
        "    dfi = unnested_drop.groupby(['knownForTitles'])[col].apply(list)\n",
        "    #Lakukan append\n",
        "    df_uni.append(dfi)\n",
        "df_grouped = pd.concat(df_uni, axis=1).reset_index()\n",
        "df_grouped.columns = ['knownForTitles','cast_name']\n",
        "print(df_grouped)"
      ],
      "metadata": {
        "colab": {
          "base_uri": "https://localhost:8080/"
        },
        "id": "jG4M0wWj3UnM",
        "outputId": "ebe29e49-3e66-41d2-89c1-323adac97d0c"
      },
      "execution_count": null,
      "outputs": [
        {
          "output_type": "stream",
          "name": "stdout",
          "text": [
            "     knownForTitles           cast_name\n",
            "0         tt0008125    [Charles Harley]\n",
            "1         tt0009706    [Charles Harley]\n",
            "2         tt0010304  [Natalie Talmadge]\n",
            "3         tt0011414  [Natalie Talmadge]\n",
            "4         tt0011890  [Natalie Talmadge]\n",
            "...             ...                 ...\n",
            "1893      tt9610496  [Stefano Baffetti]\n",
            "1894      tt9714030        [Kevin Kain]\n",
            "1895      tt9741820   [Caroline Plyler]\n",
            "1896      tt9759814     [Ethan Francis]\n",
            "1897      tt9856236     [Nuala Maguire]\n",
            "\n",
            "[1898 rows x 2 columns]\n"
          ]
        }
      ]
    },
    {
      "cell_type": "code",
      "source": [
        "#join antara movie table dan cast table \n",
        "base_df = pd.merge(df_grouped, movie_rating_df, left_on='knownForTitles', right_on='tconst', how='inner')\n",
        "\n",
        "#join antara base_df dengan director_writer table\n",
        "base_df = pd.merge(base_df, director_writers, left_on='tconst', right_on='tconst', how='left')\n",
        "print(base_df.head())"
      ],
      "metadata": {
        "colab": {
          "base_uri": "https://localhost:8080/"
        },
        "id": "EPgziqYB4mfE",
        "outputId": "a1a82ad7-941a-4b78-f2be-c8dabe7af9ff"
      },
      "execution_count": null,
      "outputs": [
        {
          "output_type": "stream",
          "name": "stdout",
          "text": [
            "  knownForTitles           cast_name     tconst titleType  \\\n",
            "0      tt0011414  [Natalie Talmadge]  tt0011414     movie   \n",
            "1      tt0011890  [Natalie Talmadge]  tt0011890     movie   \n",
            "2      tt0014341  [Natalie Talmadge]  tt0014341     movie   \n",
            "3      tt0018054     [Reeka Roberts]  tt0018054     movie   \n",
            "4      tt0024151     [James Hackett]  tt0024151     movie   \n",
            "\n",
            "             primaryTitle           originalTitle  isAdult  startYear  \\\n",
            "0         The Love Expert         The Love Expert        0     1920.0   \n",
            "1               Yes or No               Yes or No        0     1920.0   \n",
            "2         Our Hospitality         Our Hospitality        0     1923.0   \n",
            "3       The King of Kings       The King of Kings        0     1927.0   \n",
            "4  I Cover the Waterfront  I Cover the Waterfront        0     1933.0   \n",
            "\n",
            "   endYear  runtimeMinutes                   genres  averageRating  numVotes  \\\n",
            "0      NaN            60.0           Comedy,Romance            4.9       136   \n",
            "1      NaN            72.0                      NaN            6.3         7   \n",
            "2      NaN            65.0  Comedy,Romance,Thriller            7.8      9621   \n",
            "3      NaN           155.0  Biography,Drama,History            7.3      1826   \n",
            "4      NaN            80.0            Drama,Romance            6.3       455   \n",
            "\n",
            "                       director_name  \\\n",
            "0                   [David Kirkland]   \n",
            "1                [Roy William Neill]   \n",
            "2  [Buster Keaton, John G. Blystone]   \n",
            "3                 [Cecil B. DeMille]   \n",
            "4                      [James Cruze]   \n",
            "\n",
            "                                         writer_name  \n",
            "0                         [John Emerson, Anita Loos]  \n",
            "1   [Arthur F. Goodrich, Burns Mantle, Mary Murillo]  \n",
            "2  [Jean C. Havez, Clyde Bruckman, Joseph A. Mitc...  \n",
            "3                                [Jeanie Macpherson]  \n",
            "4               [Max Miller, Wells Root, Jack Jevne]  \n"
          ]
        }
      ]
    },
    {
      "cell_type": "code",
      "source": [
        "#Melakukan drop terhadap kolom knownForTitles\n",
        "base_drop = base_df.drop(['knownForTitles'], axis=1)\n",
        "print(base_drop.info())\n",
        "\n",
        "#Mengganti nilai NULL pada kolom genres dengan 'Unknown'\n",
        "base_drop['genres'] = base_drop['genres'].fillna('Unknown')\n",
        "\n",
        "#Melakukan perhitungan jumlah nilai NULL pada tiap kolom\n",
        "print(base_drop.isnull().sum())\n",
        "\n",
        "#Mengganti nilai NULL pada kolom dorector_name dan writer_name dengan 'Unknown'\n",
        "base_drop[['director_name','writer_name']] = base_drop[['director_name','writer_name']].fillna('unknown')\n",
        "\n",
        "#karena value kolom genres terdapat multiple values, jadi kita akan bungkus menjadi list of list\n",
        "base_drop['genres'] = base_drop['genres'].apply(lambda x: x.split(','))"
      ],
      "metadata": {
        "colab": {
          "base_uri": "https://localhost:8080/"
        },
        "id": "LSVR2-wB6bz7",
        "outputId": "39f4eb09-265f-4640-b4f6-12a4f1348abf"
      },
      "execution_count": null,
      "outputs": [
        {
          "output_type": "stream",
          "name": "stdout",
          "text": [
            "<class 'pandas.core.frame.DataFrame'>\n",
            "Int64Index: 1060 entries, 0 to 1059\n",
            "Data columns (total 14 columns):\n",
            " #   Column          Non-Null Count  Dtype  \n",
            "---  ------          --------------  -----  \n",
            " 0   cast_name       1060 non-null   object \n",
            " 1   tconst          1060 non-null   object \n",
            " 2   titleType       1060 non-null   object \n",
            " 3   primaryTitle    1060 non-null   object \n",
            " 4   originalTitle   1060 non-null   object \n",
            " 5   isAdult         1060 non-null   int64  \n",
            " 6   startYear       1060 non-null   float64\n",
            " 7   endYear         110 non-null    float64\n",
            " 8   runtimeMinutes  1060 non-null   float64\n",
            " 9   genres          745 non-null    object \n",
            " 10  averageRating   1060 non-null   float64\n",
            " 11  numVotes        1060 non-null   int64  \n",
            " 12  director_name   986 non-null    object \n",
            " 13  writer_name     986 non-null    object \n",
            "dtypes: float64(4), int64(2), object(8)\n",
            "memory usage: 124.2+ KB\n",
            "None\n",
            "cast_name           0\n",
            "tconst              0\n",
            "titleType           0\n",
            "primaryTitle        0\n",
            "originalTitle       0\n",
            "isAdult             0\n",
            "startYear           0\n",
            "endYear           950\n",
            "runtimeMinutes      0\n",
            "genres              0\n",
            "averageRating       0\n",
            "numVotes            0\n",
            "director_name      74\n",
            "writer_name        74\n",
            "dtype: int64\n"
          ]
        }
      ]
    },
    {
      "cell_type": "code",
      "source": [
        "#Drop kolom tconst, isAdult, endYear, originalTitle\n",
        "base_drop2 = base_drop.drop(['tconst','isAdult','endYear','originalTitle'], axis=1)\n",
        "\n",
        "base_drop2 = base_drop2[['primaryTitle','titleType','startYear','runtimeMinutes','genres','averageRating','numVotes','cast_name','director_name','writer_name']]\n",
        "\n",
        "base_drop2.columns = ['title','type','start','duration','genres','rating','votes','cast_name','director_name','writer_name']\n",
        "print(base_drop2.head())"
      ],
      "metadata": {
        "colab": {
          "base_uri": "https://localhost:8080/"
        },
        "id": "3uk8Sa8H8kuW",
        "outputId": "eda6f178-ba96-400f-ce32-ebd3a945bd6a"
      },
      "execution_count": null,
      "outputs": [
        {
          "output_type": "stream",
          "name": "stdout",
          "text": [
            "                    title   type   start  duration  \\\n",
            "0         The Love Expert  movie  1920.0      60.0   \n",
            "1               Yes or No  movie  1920.0      72.0   \n",
            "2         Our Hospitality  movie  1923.0      65.0   \n",
            "3       The King of Kings  movie  1927.0     155.0   \n",
            "4  I Cover the Waterfront  movie  1933.0      80.0   \n",
            "\n",
            "                        genres  rating  votes           cast_name  \\\n",
            "0            [Comedy, Romance]     4.9    136  [Natalie Talmadge]   \n",
            "1                    [Unknown]     6.3      7  [Natalie Talmadge]   \n",
            "2  [Comedy, Romance, Thriller]     7.8   9621  [Natalie Talmadge]   \n",
            "3  [Biography, Drama, History]     7.3   1826     [Reeka Roberts]   \n",
            "4             [Drama, Romance]     6.3    455     [James Hackett]   \n",
            "\n",
            "                       director_name  \\\n",
            "0                   [David Kirkland]   \n",
            "1                [Roy William Neill]   \n",
            "2  [Buster Keaton, John G. Blystone]   \n",
            "3                 [Cecil B. DeMille]   \n",
            "4                      [James Cruze]   \n",
            "\n",
            "                                         writer_name  \n",
            "0                         [John Emerson, Anita Loos]  \n",
            "1   [Arthur F. Goodrich, Burns Mantle, Mary Murillo]  \n",
            "2  [Jean C. Havez, Clyde Bruckman, Joseph A. Mitc...  \n",
            "3                                [Jeanie Macpherson]  \n",
            "4               [Max Miller, Wells Root, Jack Jevne]  \n"
          ]
        }
      ]
    },
    {
      "cell_type": "code",
      "source": [
        "#Klasifikasi berdasar title, cast_name, genres, director_name, dan writer_name\n",
        "feature_df = base_drop2[['title', 'cast_name', 'genres', 'director_name', 'writer_name']]\n",
        "\n",
        "#Tampilkan 5 baris teratas\n",
        "print(feature_df.head())"
      ],
      "metadata": {
        "colab": {
          "base_uri": "https://localhost:8080/"
        },
        "id": "B_jYYALy829p",
        "outputId": "ccd383d3-6afb-4151-937f-9aa69e3c4f84"
      },
      "execution_count": null,
      "outputs": [
        {
          "output_type": "stream",
          "name": "stdout",
          "text": [
            "                    title           cast_name                       genres  \\\n",
            "0         The Love Expert  [Natalie Talmadge]            [Comedy, Romance]   \n",
            "1               Yes or No  [Natalie Talmadge]                    [Unknown]   \n",
            "2         Our Hospitality  [Natalie Talmadge]  [Comedy, Romance, Thriller]   \n",
            "3       The King of Kings     [Reeka Roberts]  [Biography, Drama, History]   \n",
            "4  I Cover the Waterfront     [James Hackett]             [Drama, Romance]   \n",
            "\n",
            "                       director_name  \\\n",
            "0                   [David Kirkland]   \n",
            "1                [Roy William Neill]   \n",
            "2  [Buster Keaton, John G. Blystone]   \n",
            "3                 [Cecil B. DeMille]   \n",
            "4                      [James Cruze]   \n",
            "\n",
            "                                         writer_name  \n",
            "0                         [John Emerson, Anita Loos]  \n",
            "1   [Arthur F. Goodrich, Burns Mantle, Mary Murillo]  \n",
            "2  [Jean C. Havez, Clyde Bruckman, Joseph A. Mitc...  \n",
            "3                                [Jeanie Macpherson]  \n",
            "4               [Max Miller, Wells Root, Jack Jevne]  \n"
          ]
        }
      ]
    },
    {
      "cell_type": "markdown",
      "source": [
        "#### Pertanyaan 1: Bagaimana cara membuat fungsi untuk strip spaces dari setiap row dan setiap elemennya?\n"
      ],
      "metadata": {
        "id": "APvYx0kV9D2n"
      }
    },
    {
      "cell_type": "code",
      "source": [
        "def sanitize(x):\n",
        "    try:\n",
        "        #kalau cell berisi list\n",
        "        if isinstance(x, list):\n",
        "            return [i.replace(' ','').lower() for i in x]\n",
        "        #kalau cell berisi string\n",
        "        else:\n",
        "            return [x.replace(' ','').lower()]\n",
        "    except:\n",
        "        print(x)\n",
        "        \n",
        "#Kolom : cast_name, genres, writer_name, director_name        \n",
        "feature_cols = ['cast_name','genres','writer_name','director_name']\n",
        "\n",
        "#Apply function sanitize \n",
        "for col in feature_cols:\n",
        "    feature_df[col] = feature_df[col].apply(sanitize)"
      ],
      "metadata": {
        "colab": {
          "base_uri": "https://localhost:8080/"
        },
        "id": "H7B7IgY-9KCD",
        "outputId": "6ab29ac5-8461-4b1a-c5e3-182ec6917941"
      },
      "execution_count": null,
      "outputs": [
        {
          "output_type": "stream",
          "name": "stderr",
          "text": [
            "/usr/local/lib/python3.7/dist-packages/ipykernel_launcher.py:17: SettingWithCopyWarning: \n",
            "A value is trying to be set on a copy of a slice from a DataFrame.\n",
            "Try using .loc[row_indexer,col_indexer] = value instead\n",
            "\n",
            "See the caveats in the documentation: https://pandas.pydata.org/pandas-docs/stable/user_guide/indexing.html#returning-a-view-versus-a-copy\n"
          ]
        }
      ]
    },
    {
      "cell_type": "markdown",
      "source": [
        "#### Pertanyaan 2: Bagaimana cara membuat fungsi untuk membuat metadata soup (menggabungkan semua feature menjadi 1 bagian kalimat) untuk setiap judulnya?"
      ],
      "metadata": {
        "id": "0iByKaZc9f-p"
      }
    },
    {
      "cell_type": "code",
      "source": [
        "#kolom yang digunakan : cast_name, genres, director_name, writer_name\n",
        "def soup_feature(x):\n",
        "    return ' '.join(x['cast_name']) + ' ' + ' '.join(x['genres']) + ' ' + ' '.join(x['director_name']) + ' ' + ' '.join(x['writer_name'])\n",
        "\n",
        "#membuat soup menjadi 1 kolom \n",
        "feature_df['soup'] = feature_df.apply(soup_feature, axis=1)\n",
        "\n",
        "feature_df['soup']"
      ],
      "metadata": {
        "colab": {
          "base_uri": "https://localhost:8080/"
        },
        "id": "wvs_w8gG9k_O",
        "outputId": "ed7d32f2-313a-4cbb-f16f-603b08f41952"
      },
      "execution_count": null,
      "outputs": [
        {
          "output_type": "stream",
          "name": "stderr",
          "text": [
            "/usr/local/lib/python3.7/dist-packages/ipykernel_launcher.py:6: SettingWithCopyWarning: \n",
            "A value is trying to be set on a copy of a slice from a DataFrame.\n",
            "Try using .loc[row_indexer,col_indexer] = value instead\n",
            "\n",
            "See the caveats in the documentation: https://pandas.pydata.org/pandas-docs/stable/user_guide/indexing.html#returning-a-view-versus-a-copy\n",
            "  \n"
          ]
        },
        {
          "output_type": "execute_result",
          "data": {
            "text/plain": [
              "0       natalietalmadge comedy romance davidkirkland j...\n",
              "1       natalietalmadge unknown roywilliamneill arthur...\n",
              "2       natalietalmadge comedy romance thriller buster...\n",
              "3       reekaroberts biography drama history cecilb.de...\n",
              "4       jameshackett drama romance jamescruze maxmille...\n",
              "                              ...                        \n",
              "1055                vanessahanson unknown unknown unknown\n",
              "1056    utkuarslan crime drama mystery bahadirince lev...\n",
              "1057            jonathondeering crime drama rapman rapman\n",
              "1058    sandinidhar horror thriller sujoyghosh sujoygh...\n",
              "1059    lars-gunnarthorell comedy fantasy horror johan...\n",
              "Name: soup, Length: 1060, dtype: object"
            ]
          },
          "metadata": {},
          "execution_count": 15
        }
      ]
    },
    {
      "cell_type": "markdown",
      "source": [
        "#### Pertanyaan 3: Cara menyiapkan CountVectorizer (stop_words = english) dan fit dengan soup yang kita buat di atas"
      ],
      "metadata": {
        "id": "z2dFVYuA_Txy"
      }
    },
    {
      "cell_type": "code",
      "source": [
        "#import CountVectorizer \n",
        "from sklearn.feature_extraction.text import CountVectorizer\n",
        "\n",
        "#definisikan CountVectorizer dan mengubah soup tadi menjadi bentuk vector\n",
        "count = CountVectorizer(stop_words='english')\n",
        "count_matrix = count.fit_transform(feature_df['soup'])\n",
        "\n",
        "print(count)\n",
        "print(count_matrix.shape)"
      ],
      "metadata": {
        "colab": {
          "base_uri": "https://localhost:8080/"
        },
        "id": "C1khDxDs_YUw",
        "outputId": "842579c4-5c45-401b-846a-de8efe87734c"
      },
      "execution_count": null,
      "outputs": [
        {
          "output_type": "stream",
          "name": "stdout",
          "text": [
            "CountVectorizer(stop_words='english')\n",
            "(1060, 10026)\n"
          ]
        }
      ]
    },
    {
      "cell_type": "markdown",
      "source": [
        "#### Pertanyaan 4: Cara membuat model similarity antara count matrix\n"
      ],
      "metadata": {
        "id": "K-L7VUWg_e-I"
      }
    },
    {
      "cell_type": "code",
      "source": [
        "#Import cosine_similarity\n",
        "from sklearn.metrics.pairwise import cosine_similarity\n",
        "\n",
        "#Gunakan cosine_similarity antara count_matrix \n",
        "cosine_sim = cosine_similarity(count_matrix, count_matrix)\n",
        "\n",
        "#print hasilnya\n",
        "print(cosine_sim) "
      ],
      "metadata": {
        "colab": {
          "base_uri": "https://localhost:8080/"
        },
        "id": "dwNF8686-6Jc",
        "outputId": "e0c56e34-3bea-4f0a-e631-51cdc43590ef"
      },
      "execution_count": null,
      "outputs": [
        {
          "output_type": "stream",
          "name": "stdout",
          "text": [
            "[[1.         0.15430335 0.35355339 ... 0.         0.         0.13608276]\n",
            " [0.15430335 1.         0.10910895 ... 0.         0.         0.        ]\n",
            " [0.35355339 0.10910895 1.         ... 0.         0.08703883 0.09622504]\n",
            " ...\n",
            " [0.         0.         0.         ... 1.         0.         0.        ]\n",
            " [0.         0.         0.08703883 ... 0.         1.         0.10050378]\n",
            " [0.13608276 0.         0.09622504 ... 0.         0.10050378 1.        ]]\n"
          ]
        }
      ]
    },
    {
      "cell_type": "markdown",
      "source": [
        "#### Pertanyaan 4: Cara membuat model similarity antara count matrix"
      ],
      "metadata": {
        "id": "t5RTOriX_5jx"
      }
    },
    {
      "cell_type": "code",
      "source": [
        "indices = pd.Series(feature_df.index, index=feature_df['title']).drop_duplicates()\n",
        "\n",
        "def content_recommender(title):\n",
        "    #mendapatkan index dari judul film (title) yang disebutkan\n",
        "    idx = indices[title]\n",
        "\n",
        "    #menjadikan list dari array similarity cosine sim \n",
        "    #hint: cosine_sim[idx]\n",
        "    sim_scores = list(enumerate(cosine_sim[idx]))\n",
        "\n",
        "    #mengurutkan film dari similarity tertinggi ke terendah\n",
        "    sim_scores = sorted(sim_scores, key=lambda x: x[1], reverse=True)\n",
        "\n",
        "    #untuk mendapatkan list judul dari item kedua sampe ke 11\n",
        "    sim_scores = sim_scores[1:11]\n",
        "\n",
        "    #mendapatkan index dari judul-judul yang muncul di sim_scores\n",
        "    movie_indices = [i[0] for i in sim_scores]\n",
        "\n",
        "    #dengan menggunakan iloc, kita bisa panggil balik berdasarkan index dari movie_indices\n",
        "    return base_df.iloc[movie_indices]\n",
        "\n",
        "#aplikasikan function di atas\n",
        "print(content_recommender('The Love Expert'))"
      ],
      "metadata": {
        "colab": {
          "base_uri": "https://localhost:8080/"
        },
        "id": "KSdJmI5TAAIa",
        "outputId": "a64af522-82af-47b0-fa78-d67cde241f7f"
      },
      "execution_count": null,
      "outputs": [
        {
          "output_type": "stream",
          "name": "stdout",
          "text": [
            "     knownForTitles                 cast_name     tconst titleType  \\\n",
            "344       tt0237123          [Anat Dychtwald]  tt0237123  tvSeries   \n",
            "1052      tt9124840        [Metin Namlisesli]  tt9124840     movie   \n",
            "2         tt0014341        [Natalie Talmadge]  tt0014341     movie   \n",
            "24        tt0043762  [Constance De Mattiazzi]  tt0043762     movie   \n",
            "398       tt0308670            [Wai Chi Wong]  tt0308670     movie   \n",
            "441       tt0396269           [Matthew Fuchs]  tt0396269     movie   \n",
            "142       tt0094889       [Harvey J. Alperin]  tt0094889     movie   \n",
            "325       tt0198284             [Tim Horsely]  tt0198284     movie   \n",
            "345       tt0237501          [Ngan-Ying Poon]  tt0237501     movie   \n",
            "410       tt0340109           [Catherine May]  tt0340109     movie   \n",
            "\n",
            "              primaryTitle         originalTitle  isAdult  startYear  endYear  \\\n",
            "344               Coupling              Coupling        0     2000.0   2004.0   \n",
            "1052           Organik Ask           Organik Ask        0     2018.0      NaN   \n",
            "2          Our Hospitality       Our Hospitality        0     1923.0      NaN   \n",
            "24     Lullaby of Broadway   Lullaby of Broadway        0     1951.0      NaN   \n",
            "398   Oi ching bak min bau  Oi ching bak min bau        0     2001.0      NaN   \n",
            "441       Wedding Crashers      Wedding Crashers        0     2005.0      NaN   \n",
            "142               Cocktail              Cocktail        0     1988.0      NaN   \n",
            "325              After Sex             After Sex        0     2000.0      NaN   \n",
            "345        Ninth Happiness      Gau sing bou hei        0     1998.0      NaN   \n",
            "410         Fast Food High        Fast Food High        0     2003.0      NaN   \n",
            "\n",
            "      runtimeMinutes                   genres  averageRating  numVotes  \\\n",
            "344             30.0           Comedy,Romance            8.5     41571   \n",
            "1052           100.0           Comedy,Romance            4.3        89   \n",
            "2               65.0  Comedy,Romance,Thriller            7.8      9621   \n",
            "24              92.0   Comedy,Musical,Romance            6.8       893   \n",
            "398            101.0           Comedy,Romance            6.8        47   \n",
            "441            119.0           Comedy,Romance            6.9    323737   \n",
            "142            104.0     Comedy,Drama,Romance            5.9     76694   \n",
            "325             96.0     Comedy,Drama,Romance            4.4       753   \n",
            "345             86.0   Comedy,Musical,Romance            5.9       118   \n",
            "410             92.0     Comedy,Drama,Romance            5.2       174   \n",
            "\n",
            "                          director_name  \\\n",
            "344                     [Martin Dennis]   \n",
            "1052                      [Kamil Cetin]   \n",
            "2     [Buster Keaton, John G. Blystone]   \n",
            "24                       [David Butler]   \n",
            "398                         [Steven Lo]   \n",
            "441                      [David Dobkin]   \n",
            "142                   [Roger Donaldson]   \n",
            "325                      [Cameron Thor]   \n",
            "345                        [Clifton Ko]   \n",
            "410                     [Nisha Ganatra]   \n",
            "\n",
            "                                            writer_name  \n",
            "344                                     [Steven Moffat]  \n",
            "1052                                    [Volkan Girgin]  \n",
            "2     [Jean C. Havez, Clyde Bruckman, Joseph A. Mitc...  \n",
            "24                                       [Earl Baldwin]  \n",
            "398                       [Canny Leung, Chi Shan Leung]  \n",
            "441                           [Steve Faber, Bob Fisher]  \n",
            "142                                     [Heywood Gould]  \n",
            "325                                [Thomas M. Kostigen]  \n",
            "345                                        [Raymond To]  \n",
            "410                        [Tassie Cameron, Jackie May]  \n"
          ]
        }
      ]
    }
  ]
}